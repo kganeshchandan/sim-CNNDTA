{
 "cells": [
  {
   "cell_type": "code",
   "execution_count": 1,
   "id": "8b53e326",
   "metadata": {},
   "outputs": [],
   "source": [
    "import torch \n",
    "import json,pickle,math\n",
    "import pandas as pd\n",
    "import numpy as np\n",
    "import torch.nn as nn\n",
    "import torchvision\n",
    "import torchvision.transforms as transforms\n"
   ]
  },
  {
   "cell_type": "code",
   "execution_count": 2,
   "id": "f12dc1a2",
   "metadata": {},
   "outputs": [],
   "source": [
    "LSM = pickle.load(open('./davis_ligand_similarity_matrix.pkl', 'rb'))\n",
    "PSM = pickle.load(open('./davis_protein_similarity_matrix.pkl', 'rb'))\n",
    "df = pd.read_csv(open('./all_pairs.csv','r'))"
   ]
  },
  {
   "cell_type": "code",
   "execution_count": 3,
   "id": "bf827815",
   "metadata": {},
   "outputs": [],
   "source": [
    "# df"
   ]
  },
  {
   "cell_type": "code",
   "execution_count": 4,
   "id": "c3213da7",
   "metadata": {},
   "outputs": [],
   "source": [
    "SMILES = json.load(open('./data/DAVIS/SMILES.txt'))\n",
    "TARGETS = json.load(open('./data/DAVIS/target_seq.txt'))\n",
    "SMILES=list(SMILES.values())\n",
    "TARGETS=list(TARGETS.values())"
   ]
  },
  {
   "cell_type": "code",
   "execution_count": 5,
   "id": "1623a6b8",
   "metadata": {},
   "outputs": [
    {
     "name": "stdout",
     "output_type": "stream",
     "text": [
      "(30056, 1, 68, 442)\n"
     ]
    }
   ],
   "source": [
    "outer_prods = []\n",
    "for i,row in df.iterrows():\n",
    "#     print(i)\n",
    "    smi = row['SMILES']\n",
    "    seq = row['Target Sequence']\n",
    "    target_id = TARGETS.index(seq)\n",
    "    smi_id = SMILES.index(smi)\n",
    "    ki=LSM[smi_id]\n",
    "    kj=PSM[target_id]\n",
    "    ki_x_kj = np.outer(ki,kj)\n",
    "    outer_prods.append([ki_x_kj])\n",
    "outer_prods = np.array(outer_prods)\n",
    "print(np.shape(outer_prods))"
   ]
  },
  {
   "cell_type": "code",
   "execution_count": 6,
   "id": "511c953b",
   "metadata": {},
   "outputs": [],
   "source": [
    "class custom_dataset(torch.utils.data.Dataset):\n",
    "    def __init__(self, csv_file, outer_prods, transform=None):\n",
    "        self.df = pd.read_csv(open(csv_file))\n",
    "#         self.root_dir = root_dir\n",
    "        self.transform = transform\n",
    "        self.outer_prods = outer_prods\n",
    "        \n",
    "    def __len__(self):\n",
    "        return len(self.df)\n",
    "    \n",
    "    def __getitem__(self, idx):\n",
    "        output = {'outer_product': self.outer_prods[idx] , 'Label':self.df.iloc[idx]['Label']}\n",
    "        return output"
   ]
  },
  {
   "cell_type": "code",
   "execution_count": 7,
   "id": "1976b0d7",
   "metadata": {},
   "outputs": [],
   "source": [
    "dataset = custom_dataset(csv_file = './all_pairs.csv', outer_prods = outer_prods)\n",
    "full_dataset = dataset"
   ]
  },
  {
   "cell_type": "code",
   "execution_count": 11,
   "id": "7d9fc732",
   "metadata": {},
   "outputs": [],
   "source": [
    "train_size = int(0.8 * len(full_dataset))\n",
    "test_size = len(full_dataset) - train_size\n",
    "train_dataset, test_dataset = torch.utils.data.random_split(full_dataset, [train_size, test_size])"
   ]
  },
  {
   "cell_type": "code",
   "execution_count": 21,
   "id": "0d18aa42",
   "metadata": {},
   "outputs": [],
   "source": [
    "train_loader= torch.utils.data.DataLoader(train_dataset, batch_size=32, shuffle=True)\n",
    "test_loader= torch.utils.data.DataLoader(test_dataset, batch_size=32, shuffle=True)"
   ]
  },
  {
   "cell_type": "code",
   "execution_count": 29,
   "id": "9cf1a31d",
   "metadata": {},
   "outputs": [],
   "source": [
    "# Hyper parameters\n",
    "num_epochs = 5\n",
    "# num_classes = 10\n",
    "batch_size = 32\n",
    "learning_rate = 0.001"
   ]
  },
  {
   "cell_type": "code",
   "execution_count": null,
   "id": "5a6c9c42",
   "metadata": {},
   "outputs": [],
   "source": [
    "class convNet(nn.Module):\n",
    "    def __init__(self):\n",
    "        self.conv1 = nn.Conv2d(1,32, 5)\n",
    "        self.pool = nn.MaxPool2d(2,2)\n",
    "        self.conv2 = nn.Conv2d(32,18,3)\n",
    "        self.fc1 = nn.Linear(128, 1)\n",
    "        self.fc2 = nn.Linear(1,1)\n",
    "    def forward(self):\n",
    "        pass\n",
    "    "
   ]
  },
  {
   "cell_type": "code",
   "execution_count": null,
   "id": "75ee4348",
   "metadata": {},
   "outputs": [],
   "source": []
  }
 ],
 "metadata": {
  "kernelspec": {
   "display_name": "Python 3 (ipykernel)",
   "language": "python",
   "name": "python3"
  },
  "language_info": {
   "codemirror_mode": {
    "name": "ipython",
    "version": 3
   },
   "file_extension": ".py",
   "mimetype": "text/x-python",
   "name": "python",
   "nbconvert_exporter": "python",
   "pygments_lexer": "ipython3",
   "version": "3.9.6"
  }
 },
 "nbformat": 4,
 "nbformat_minor": 5
}
